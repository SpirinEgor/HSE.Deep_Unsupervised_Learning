{
 "nbformat": 4,
 "nbformat_minor": 0,
 "metadata": {
  "colab": {
   "name": "Homework8_DRE.ipynb",
   "provenance": [],
   "collapsed_sections": [],
   "include_colab_link": true
  },
  "kernelspec": {
   "name": "python3",
   "display_name": "Python 3"
  },
  "language_info": {
   "name": "python"
  },
  "accelerator": "GPU",
  "widgets": {
   "application/vnd.jupyter.widget-state+json": {
    "d3c1b808b2b0412bb6c637ed56214060": {
     "model_module": "@jupyter-widgets/controls",
     "model_name": "HBoxModel",
     "model_module_version": "1.5.0",
     "state": {
      "_view_name": "HBoxView",
      "_dom_classes": [],
      "_model_name": "HBoxModel",
      "_view_module": "@jupyter-widgets/controls",
      "_model_module_version": "1.5.0",
      "_view_count": null,
      "_view_module_version": "1.5.0",
      "box_style": "",
      "layout": "IPY_MODEL_59aef2d548de4516ab8c8c9f4d454ed0",
      "_model_module": "@jupyter-widgets/controls",
      "children": [
       "IPY_MODEL_ec496fe36b6c440fb6960af453494aa6",
       "IPY_MODEL_00c4360ed7b34a10b307a3b537743f32",
       "IPY_MODEL_394959246c1b45fb824d9ed54bcf47ea"
      ]
     }
    },
    "59aef2d548de4516ab8c8c9f4d454ed0": {
     "model_module": "@jupyter-widgets/base",
     "model_name": "LayoutModel",
     "model_module_version": "1.2.0",
     "state": {
      "_view_name": "LayoutView",
      "grid_template_rows": null,
      "right": null,
      "justify_content": null,
      "_view_module": "@jupyter-widgets/base",
      "overflow": null,
      "_model_module_version": "1.2.0",
      "_view_count": null,
      "flex_flow": null,
      "width": null,
      "min_width": null,
      "border": null,
      "align_items": null,
      "bottom": null,
      "_model_module": "@jupyter-widgets/base",
      "top": null,
      "grid_column": null,
      "overflow_y": null,
      "overflow_x": null,
      "grid_auto_flow": null,
      "grid_area": null,
      "grid_template_columns": null,
      "flex": null,
      "_model_name": "LayoutModel",
      "justify_items": null,
      "grid_row": null,
      "max_height": null,
      "align_content": null,
      "visibility": null,
      "align_self": null,
      "height": null,
      "min_height": null,
      "padding": null,
      "grid_auto_rows": null,
      "grid_gap": null,
      "max_width": null,
      "order": null,
      "_view_module_version": "1.2.0",
      "grid_template_areas": null,
      "object_position": null,
      "object_fit": null,
      "grid_auto_columns": null,
      "margin": null,
      "display": null,
      "left": null
     }
    },
    "ec496fe36b6c440fb6960af453494aa6": {
     "model_module": "@jupyter-widgets/controls",
     "model_name": "HTMLModel",
     "model_module_version": "1.5.0",
     "state": {
      "_view_name": "HTMLView",
      "style": "IPY_MODEL_ba20e53974864f9e992c62ac4cf92641",
      "_dom_classes": [],
      "description": "",
      "_model_name": "HTMLModel",
      "placeholder": "​",
      "_view_module": "@jupyter-widgets/controls",
      "_model_module_version": "1.5.0",
      "value": "100%",
      "_view_count": null,
      "_view_module_version": "1.5.0",
      "description_tooltip": null,
      "_model_module": "@jupyter-widgets/controls",
      "layout": "IPY_MODEL_24afa58e1920421f9a10ed6454125b81"
     }
    },
    "00c4360ed7b34a10b307a3b537743f32": {
     "model_module": "@jupyter-widgets/controls",
     "model_name": "FloatProgressModel",
     "model_module_version": "1.5.0",
     "state": {
      "_view_name": "ProgressView",
      "style": "IPY_MODEL_be8024b66a04457aaf052ce6073aedd6",
      "_dom_classes": [],
      "description": "",
      "_model_name": "FloatProgressModel",
      "bar_style": "success",
      "max": 100,
      "_view_module": "@jupyter-widgets/controls",
      "_model_module_version": "1.5.0",
      "value": 100,
      "_view_count": null,
      "_view_module_version": "1.5.0",
      "orientation": "horizontal",
      "min": 0,
      "description_tooltip": null,
      "_model_module": "@jupyter-widgets/controls",
      "layout": "IPY_MODEL_ba6ec6994cba49ce98a5f0905627c7fa"
     }
    },
    "394959246c1b45fb824d9ed54bcf47ea": {
     "model_module": "@jupyter-widgets/controls",
     "model_name": "HTMLModel",
     "model_module_version": "1.5.0",
     "state": {
      "_view_name": "HTMLView",
      "style": "IPY_MODEL_4596d4b8f6c8499485de918f385cae78",
      "_dom_classes": [],
      "description": "",
      "_model_name": "HTMLModel",
      "placeholder": "​",
      "_view_module": "@jupyter-widgets/controls",
      "_model_module_version": "1.5.0",
      "value": " 100/100 [00:07&lt;00:00, 14.58it/s, loss=-.258]",
      "_view_count": null,
      "_view_module_version": "1.5.0",
      "description_tooltip": null,
      "_model_module": "@jupyter-widgets/controls",
      "layout": "IPY_MODEL_45d05c31aa9b45fe99ecd39869be0ab3"
     }
    },
    "ba20e53974864f9e992c62ac4cf92641": {
     "model_module": "@jupyter-widgets/controls",
     "model_name": "DescriptionStyleModel",
     "model_module_version": "1.5.0",
     "state": {
      "_view_name": "StyleView",
      "_model_name": "DescriptionStyleModel",
      "description_width": "",
      "_view_module": "@jupyter-widgets/base",
      "_model_module_version": "1.5.0",
      "_view_count": null,
      "_view_module_version": "1.2.0",
      "_model_module": "@jupyter-widgets/controls"
     }
    },
    "24afa58e1920421f9a10ed6454125b81": {
     "model_module": "@jupyter-widgets/base",
     "model_name": "LayoutModel",
     "model_module_version": "1.2.0",
     "state": {
      "_view_name": "LayoutView",
      "grid_template_rows": null,
      "right": null,
      "justify_content": null,
      "_view_module": "@jupyter-widgets/base",
      "overflow": null,
      "_model_module_version": "1.2.0",
      "_view_count": null,
      "flex_flow": null,
      "width": null,
      "min_width": null,
      "border": null,
      "align_items": null,
      "bottom": null,
      "_model_module": "@jupyter-widgets/base",
      "top": null,
      "grid_column": null,
      "overflow_y": null,
      "overflow_x": null,
      "grid_auto_flow": null,
      "grid_area": null,
      "grid_template_columns": null,
      "flex": null,
      "_model_name": "LayoutModel",
      "justify_items": null,
      "grid_row": null,
      "max_height": null,
      "align_content": null,
      "visibility": null,
      "align_self": null,
      "height": null,
      "min_height": null,
      "padding": null,
      "grid_auto_rows": null,
      "grid_gap": null,
      "max_width": null,
      "order": null,
      "_view_module_version": "1.2.0",
      "grid_template_areas": null,
      "object_position": null,
      "object_fit": null,
      "grid_auto_columns": null,
      "margin": null,
      "display": null,
      "left": null
     }
    },
    "be8024b66a04457aaf052ce6073aedd6": {
     "model_module": "@jupyter-widgets/controls",
     "model_name": "ProgressStyleModel",
     "model_module_version": "1.5.0",
     "state": {
      "_view_name": "StyleView",
      "_model_name": "ProgressStyleModel",
      "description_width": "",
      "_view_module": "@jupyter-widgets/base",
      "_model_module_version": "1.5.0",
      "_view_count": null,
      "_view_module_version": "1.2.0",
      "bar_color": null,
      "_model_module": "@jupyter-widgets/controls"
     }
    },
    "ba6ec6994cba49ce98a5f0905627c7fa": {
     "model_module": "@jupyter-widgets/base",
     "model_name": "LayoutModel",
     "model_module_version": "1.2.0",
     "state": {
      "_view_name": "LayoutView",
      "grid_template_rows": null,
      "right": null,
      "justify_content": null,
      "_view_module": "@jupyter-widgets/base",
      "overflow": null,
      "_model_module_version": "1.2.0",
      "_view_count": null,
      "flex_flow": null,
      "width": null,
      "min_width": null,
      "border": null,
      "align_items": null,
      "bottom": null,
      "_model_module": "@jupyter-widgets/base",
      "top": null,
      "grid_column": null,
      "overflow_y": null,
      "overflow_x": null,
      "grid_auto_flow": null,
      "grid_area": null,
      "grid_template_columns": null,
      "flex": null,
      "_model_name": "LayoutModel",
      "justify_items": null,
      "grid_row": null,
      "max_height": null,
      "align_content": null,
      "visibility": null,
      "align_self": null,
      "height": null,
      "min_height": null,
      "padding": null,
      "grid_auto_rows": null,
      "grid_gap": null,
      "max_width": null,
      "order": null,
      "_view_module_version": "1.2.0",
      "grid_template_areas": null,
      "object_position": null,
      "object_fit": null,
      "grid_auto_columns": null,
      "margin": null,
      "display": null,
      "left": null
     }
    },
    "4596d4b8f6c8499485de918f385cae78": {
     "model_module": "@jupyter-widgets/controls",
     "model_name": "DescriptionStyleModel",
     "model_module_version": "1.5.0",
     "state": {
      "_view_name": "StyleView",
      "_model_name": "DescriptionStyleModel",
      "description_width": "",
      "_view_module": "@jupyter-widgets/base",
      "_model_module_version": "1.5.0",
      "_view_count": null,
      "_view_module_version": "1.2.0",
      "_model_module": "@jupyter-widgets/controls"
     }
    },
    "45d05c31aa9b45fe99ecd39869be0ab3": {
     "model_module": "@jupyter-widgets/base",
     "model_name": "LayoutModel",
     "model_module_version": "1.2.0",
     "state": {
      "_view_name": "LayoutView",
      "grid_template_rows": null,
      "right": null,
      "justify_content": null,
      "_view_module": "@jupyter-widgets/base",
      "overflow": null,
      "_model_module_version": "1.2.0",
      "_view_count": null,
      "flex_flow": null,
      "width": null,
      "min_width": null,
      "border": null,
      "align_items": null,
      "bottom": null,
      "_model_module": "@jupyter-widgets/base",
      "top": null,
      "grid_column": null,
      "overflow_y": null,
      "overflow_x": null,
      "grid_auto_flow": null,
      "grid_area": null,
      "grid_template_columns": null,
      "flex": null,
      "_model_name": "LayoutModel",
      "justify_items": null,
      "grid_row": null,
      "max_height": null,
      "align_content": null,
      "visibility": null,
      "align_self": null,
      "height": null,
      "min_height": null,
      "padding": null,
      "grid_auto_rows": null,
      "grid_gap": null,
      "max_width": null,
      "order": null,
      "_view_module_version": "1.2.0",
      "grid_template_areas": null,
      "object_position": null,
      "object_fit": null,
      "grid_auto_columns": null,
      "margin": null,
      "display": null,
      "left": null
     }
    }
   }
  }
 },
 "cells": [
  {
   "cell_type": "code",
   "execution_count": 1,
   "outputs": [
    {
     "output_type": "stream",
     "name": "stdout",
     "text": [
      "Tue Jan 25 19:31:52 2022       \n",
      "+-----------------------------------------------------------------------------+\n",
      "| NVIDIA-SMI 495.46       Driver Version: 460.32.03    CUDA Version: 11.2     |\n",
      "|-------------------------------+----------------------+----------------------+\n",
      "| GPU  Name        Persistence-M| Bus-Id        Disp.A | Volatile Uncorr. ECC |\n",
      "| Fan  Temp  Perf  Pwr:Usage/Cap|         Memory-Usage | GPU-Util  Compute M. |\n",
      "|                               |                      |               MIG M. |\n",
      "|===============================+======================+======================|\n",
      "|   0  Tesla K80           Off  | 00000000:00:04.0 Off |                    0 |\n",
      "| N/A   46C    P8    30W / 149W |      0MiB / 11441MiB |      0%      Default |\n",
      "|                               |                      |                  N/A |\n",
      "+-------------------------------+----------------------+----------------------+\n",
      "                                                                               \n",
      "+-----------------------------------------------------------------------------+\n",
      "| Processes:                                                                  |\n",
      "|  GPU   GI   CI        PID   Type   Process name                  GPU Memory |\n",
      "|        ID   ID                                                   Usage      |\n",
      "|=============================================================================|\n",
      "|  No running processes found                                                 |\n",
      "+-----------------------------------------------------------------------------+\n"
     ]
    }
   ],
   "source": [
    "! nvidia-smi"
   ],
   "metadata": {
    "pycharm": {
     "name": "#%%\n"
    },
    "id": "jPe4UB6Ht-rN",
    "outputId": "080a01ea-2e10-425b-c259-97757e6ae3ab",
    "colab": {
     "base_uri": "https://localhost:8080/"
    }
   }
  },
  {
   "cell_type": "code",
   "execution_count": 2,
   "outputs": [
    {
     "output_type": "stream",
     "name": "stdout",
     "text": [
      "Cloning into 'HSE.Deep_Unsupervised_Learning'...\n",
      "remote: Enumerating objects: 757, done.\u001B[K\n",
      "remote: Counting objects: 100% (231/231), done.\u001B[K\n",
      "remote: Compressing objects: 100% (131/131), done.\u001B[K\n",
      "remote: Total 757 (delta 121), reused 135 (delta 84), pack-reused 526\u001B[K\n",
      "Receiving objects: 100% (757/757), 73.65 MiB | 13.40 MiB/s, done.\n",
      "Resolving deltas: 100% (353/353), done.\n",
      "/content/HSE.Deep_Unsupervised_Learning\n",
      "Branch 'hw8' set up to track remote branch 'hw8' from 'origin'.\n",
      "Switched to a new branch 'hw8'\n"
     ]
    }
   ],
   "source": [
    "! if [ -d HSE.Deep_Unsupervised_Learning ]; then rm -Rf HSE.Deep_Unsupervised_Learning; fi\n",
    "! git clone https://github.com/SpirinEgor/HSE.Deep_Unsupervised_Learning.git\n",
    "%cd HSE.Deep_Unsupervised_Learning\n",
    "! git checkout hw8"
   ],
   "metadata": {
    "pycharm": {
     "name": "#%%\n"
    },
    "id": "lVRg7HF2t-rQ",
    "outputId": "54660d9f-9305-402a-8be2-c36c9c644271",
    "colab": {
     "base_uri": "https://localhost:8080/"
    }
   }
  },
  {
   "cell_type": "code",
   "execution_count": 3,
   "outputs": [
    {
     "output_type": "stream",
     "name": "stdout",
     "text": [
      "Requirement already satisfied: matplotlib~=3.5.0 in /usr/local/lib/python3.7/dist-packages (from -r requirements.txt (line 1)) (3.5.1)\n",
      "Requirement already satisfied: scipy~=1.7.3 in /usr/local/lib/python3.7/dist-packages (from -r requirements.txt (line 2)) (1.7.3)\n",
      "Requirement already satisfied: torch>=1.9.0 in /usr/local/lib/python3.7/dist-packages (from -r requirements.txt (line 3)) (1.10.0+cu111)\n",
      "Requirement already satisfied: numpy~=1.21.4 in /usr/local/lib/python3.7/dist-packages (from -r requirements.txt (line 4)) (1.21.5)\n",
      "Requirement already satisfied: torchvision>=0.10.0 in /usr/local/lib/python3.7/dist-packages (from -r requirements.txt (line 5)) (0.11.1+cu111)\n",
      "Requirement already satisfied: pillow~=8.4.0 in /usr/local/lib/python3.7/dist-packages (from -r requirements.txt (line 6)) (8.4.0)\n",
      "Requirement already satisfied: tqdm~=4.62.3 in /usr/local/lib/python3.7/dist-packages (from -r requirements.txt (line 7)) (4.62.3)\n",
      "Requirement already satisfied: torchdiffeq~=0.2.2 in /usr/local/lib/python3.7/dist-packages (from -r requirements.txt (line 8)) (0.2.2)\n",
      "Requirement already satisfied: fonttools>=4.22.0 in /usr/local/lib/python3.7/dist-packages (from matplotlib~=3.5.0->-r requirements.txt (line 1)) (4.29.0)\n",
      "Requirement already satisfied: python-dateutil>=2.7 in /usr/local/lib/python3.7/dist-packages (from matplotlib~=3.5.0->-r requirements.txt (line 1)) (2.8.2)\n",
      "Requirement already satisfied: packaging>=20.0 in /usr/local/lib/python3.7/dist-packages (from matplotlib~=3.5.0->-r requirements.txt (line 1)) (21.3)\n",
      "Requirement already satisfied: kiwisolver>=1.0.1 in /usr/local/lib/python3.7/dist-packages (from matplotlib~=3.5.0->-r requirements.txt (line 1)) (1.3.2)\n",
      "Requirement already satisfied: cycler>=0.10 in /usr/local/lib/python3.7/dist-packages (from matplotlib~=3.5.0->-r requirements.txt (line 1)) (0.11.0)\n",
      "Requirement already satisfied: pyparsing>=2.2.1 in /usr/local/lib/python3.7/dist-packages (from matplotlib~=3.5.0->-r requirements.txt (line 1)) (3.0.6)\n",
      "Requirement already satisfied: typing-extensions in /usr/local/lib/python3.7/dist-packages (from torch>=1.9.0->-r requirements.txt (line 3)) (3.10.0.2)\n",
      "Requirement already satisfied: six>=1.5 in /usr/local/lib/python3.7/dist-packages (from python-dateutil>=2.7->matplotlib~=3.5.0->-r requirements.txt (line 1)) (1.15.0)\n"
     ]
    }
   ],
   "source": [
    "! pip install -r requirements.txt"
   ],
   "metadata": {
    "pycharm": {
     "name": "#%%\n"
    },
    "id": "oohM3-HXt-rR",
    "outputId": "63d31ecc-9486-451f-ea3b-3dc1ba4b8137",
    "colab": {
     "base_uri": "https://localhost:8080/"
    }
   }
  },
  {
   "cell_type": "code",
   "execution_count": 4,
   "outputs": [
    {
     "output_type": "stream",
     "name": "stdout",
     "text": [
      "Already up to date.\n"
     ]
    }
   ],
   "source": [
    "! git pull"
   ],
   "metadata": {
    "pycharm": {
     "name": "#%%\n"
    },
    "id": "5FHA8m3ct-rR",
    "outputId": "83fc8ceb-e868-4347-c691-b7394e0c163f",
    "colab": {
     "base_uri": "https://localhost:8080/"
    }
   }
  },
  {
   "cell_type": "code",
   "execution_count": 5,
   "metadata": {
    "id": "botyZAC03R1t",
    "outputId": "777f14ae-1b2f-40d4-c27e-7700bab0e517",
    "colab": {
     "base_uri": "https://localhost:8080/"
    }
   },
   "outputs": [
    {
     "output_type": "stream",
     "name": "stdout",
     "text": [
      "renamed 'Homework/hw1/data/hw1_data/geoffrey-hinton.jpg' -> 'Homework/hw1/data/geoffrey-hinton.jpg'\n",
      "renamed 'Homework/hw1/data/hw1_data/mnist_colored.pkl' -> 'Homework/hw1/data/mnist_colored.pkl'\n",
      "renamed 'Homework/hw1/data/hw1_data/mnist.pkl' -> 'Homework/hw1/data/mnist.pkl'\n",
      "renamed 'Homework/hw1/data/hw1_data/shapes_colored.pkl' -> 'Homework/hw1/data/shapes_colored.pkl'\n",
      "renamed 'Homework/hw1/data/hw1_data/shapes.pkl' -> 'Homework/hw1/data/shapes.pkl'\n",
      "renamed 'Homework/hw1/data/hw1_data/smiley.jpg' -> 'Homework/hw1/data/smiley.jpg'\n"
     ]
    }
   ],
   "source": [
    "! unzip -qq Homework/hw1/data/hw1_data.zip -d Homework/hw1/data/\n",
    "! mv -v Homework/hw1/data/hw1_data/* Homework/hw1/data/\n",
    "! rm -rf Homework/hw1/data/hw1_data/"
   ]
  },
  {
   "cell_type": "code",
   "execution_count": 1,
   "outputs": [
    {
     "name": "stdout",
     "output_type": "stream",
     "text": [
      "/Users/Egor.Spirin/HSE/HSE.Deep_Unsupervised_Learning\n"
     ]
    }
   ],
   "source": [
    "%cd ../.."
   ],
   "metadata": {
    "collapsed": false,
    "pycharm": {
     "name": "#%%\n"
    }
   }
  },
  {
   "cell_type": "code",
   "metadata": {
    "id": "ZHWosWrbpO5Y"
   },
   "source": [
    "import matplotlib.pyplot as plt\n",
    "import torch\n",
    "from torch.utils.data import DataLoader, Dataset\n",
    "\n",
    "from utils.hw8_utils import *\n",
    "from dre.kmm import KernelMeanMatching, KMMTrainer\n",
    "from dre.avb import AVB\n",
    "\n",
    "%matplotlib inline\n",
    "%load_ext autoreload\n",
    "%autoreload 2"
   ],
   "execution_count": 5,
   "outputs": [
    {
     "name": "stdout",
     "output_type": "stream",
     "text": [
      "The autoreload extension is already loaded. To reload it, use:\n",
      "  %reload_ext autoreload\n"
     ]
    }
   ]
  },
  {
   "cell_type": "code",
   "execution_count": 3,
   "outputs": [],
   "source": [
    "plt.rcParams[\"axes.labelsize\"] = 25.0\n",
    "plt.rcParams[\"xtick.labelsize\"] = 20.0\n",
    "plt.rcParams[\"ytick.labelsize\"] = 20.0\n",
    "plt.rcParams[\"legend.fontsize\"] = 18.0\n",
    "\n",
    "plt.rcParams[\"figure.figsize\"] = [8.0, 6.0]"
   ],
   "metadata": {
    "pycharm": {
     "name": "#%%\n"
    },
    "id": "tcYLARrRt-rT"
   }
  },
  {
   "cell_type": "code",
   "execution_count": 4,
   "outputs": [
    {
     "data": {
      "text/plain": "device(type='cpu')"
     },
     "execution_count": 4,
     "metadata": {},
     "output_type": "execute_result"
    }
   ],
   "source": [
    "device = torch.device(\"cuda\" if torch.cuda.is_available() else \"cpu\")\n",
    "device"
   ],
   "metadata": {
    "pycharm": {
     "name": "#%%\n"
    },
    "id": "vyv7V-2Tt-rT",
    "outputId": "80c5ddad-bda0-498a-c6ab-0caf299c7761",
    "colab": {
     "base_uri": "https://localhost:8080/"
    }
   }
  },
  {
   "cell_type": "markdown",
   "source": [
    "# Question 1. KMM"
   ],
   "metadata": {
    "id": "WGaJ2yY4bGWo"
   }
  },
  {
   "cell_type": "markdown",
   "source": [
    "## Notations from practice\n",
    "\n",
    "*   $p_{nu}(x)$ - pdf of numerator\n",
    "*   $p_{de}(x)$ - pdf of denominator\n",
    "*   $r(x)=\\frac{p_{nu}(x)}{p_{de}(x)}$ - density ratio\n",
    "*   $p_{nu}^*, p_{du}^*, r^*$ - estimatinos of respective functions\n",
    "*   $\\{x^{nu}_i\\}_{i=1}^{n_{nu}}$ - sample from numerator distribution\n",
    "*   $\\{x^{de}_i\\}_{i=1}^{n_{de}}$ - sample from denominator distribution\n",
    "\n",
    "\n",
    "\n",
    "## KMM objective\n",
    "\n",
    "Here we will implement Kernel Mean Matching (KMM) method for density ratio estimation. The basic idea of KMM is to 'match' expections of kernel function:\n",
    "\n",
    "$$argmin_{r^*} ||E_{p_{de}}r^*(x)K(\\cdot, x) - E_{p_{nu}}K(\\cdot, x)||$$\n",
    "\n",
    "Where $K(x, x') = exp(-\\frac{|x-y|^2}{2\\sigma^2})$. Emperical variant of this objective can be rewritten as follows:\n",
    "\n",
    "$$argmin_{r^*} \\frac{1}{n_{de}^2} (r^*_{de})^t K_{de, de} r^*_{de} - \\frac{2}{n_{nu}n_{de} }(r^*_{de})^t K_{de, nu}1_{n_{nu}}$$\n",
    "\n",
    "Where\n",
    "\n",
    "\n",
    "*   $r^*_{de}$ - vector with $(r^*_{de})_i=r^*(x^{de}_i)$\n",
    "*   $K_{de, de}$ - matrix with $(K_{de, de})_{i, j} = K(x^{de}_i, x^{de}_j)$\n",
    "*   $K_{de, nu}$ - matrix with $(K_{de, nu})_{i, j} = K(x^{de}_i, x^{nu}_j)$\n",
    "*   $1_{n_{nu}}$ - vector with $n_{nu}$ ones\n",
    "\n",
    "\n",
    "## You will provide these deliverables\n",
    "Density ratio on $[-2, 2]$.\n"
   ],
   "metadata": {
    "id": "9puPlBKicfOq"
   }
  },
  {
   "cell_type": "code",
   "source": [
    "plot_data_q1()"
   ],
   "metadata": {
    "colab": {
     "base_uri": "https://localhost:8080/",
     "height": 400
    },
    "id": "07hzT2JG2Lvv",
    "outputId": "6aa16f1b-708b-42a4-be59-2dfda9c6317c"
   },
   "execution_count": 9,
   "outputs": [
    {
     "output_type": "display_data",
     "data": {
      "text/plain": [
       "<Figure size 576x432 with 0 Axes>"
      ]
     },
     "metadata": {}
    },
    {
     "output_type": "display_data",
     "data": {
      "image/png": "[encoded data removed]",
      "text/plain": [
       "<Figure size 576x432 with 1 Axes>"
      ]
     },
     "metadata": {
      "needs_background": "light"
     }
    }
   ]
  },
  {
   "cell_type": "code",
   "source": [
    "def q1(data_nu, data_de):\n",
    "    \"\"\"\n",
    "    data_nu - An [n_nu] dataset with samples from numerator's distribution\n",
    "    data_de - An [n_de] dataset with samples from denominators's distribution\n",
    "\n",
    "    Returns\n",
    "      - a np.array with density ratios of np.linspace(-2., 2, num=100)\n",
    "    \"\"\"\n",
    "    batch_size = 512\n",
    "    lr = 1e-3\n",
    "    epochs = 100\n",
    "\n",
    "    sigma = 0.1\n",
    "    hd = 256\n",
    "\n",
    "    data_nu = torch.tensor(data_nu.reshape(-1, 1), dtype=torch.float, device=device)\n",
    "    data_de = torch.tensor(data_de.reshape(-1, 1), dtype=torch.float, device=device)\n",
    "\n",
    "    dataloader_nu = DataLoader(data_nu, batch_size=batch_size, shuffle=True)\n",
    "    dataloader_de = DataLoader(data_de, batch_size=batch_size, shuffle=True)\n",
    "\n",
    "    kmm = KernelMeanMatching(1, sigma, hd).to(device)\n",
    "    trainer = KMMTrainer(kmm, device=device)\n",
    "\n",
    "    trainer.fit(dataloader_nu, dataloader_de, lr, epochs)\n",
    "\n",
    "    x = np.linspace(-2.0, 2, num=100)\n",
    "    x = torch.tensor(x.reshape(-1, 1), dtype=torch.float, device=device)\n",
    "\n",
    "    with torch.no_grad():\n",
    "        kmm.eval()\n",
    "        return kmm(x).detach().cpu().numpy()"
   ],
   "metadata": {
    "id": "4-jdrQdePnCk"
   },
   "execution_count": 10,
   "outputs": []
  },
  {
   "cell_type": "code",
   "source": [
    "q1_results(q1)"
   ],
   "metadata": {
    "colab": {
     "base_uri": "https://localhost:8080/",
     "height": 433,
     "referenced_widgets": [
      "d3c1b808b2b0412bb6c637ed56214060",
      "59aef2d548de4516ab8c8c9f4d454ed0",
      "ec496fe36b6c440fb6960af453494aa6",
      "00c4360ed7b34a10b307a3b537743f32",
      "394959246c1b45fb824d9ed54bcf47ea",
      "ba20e53974864f9e992c62ac4cf92641",
      "24afa58e1920421f9a10ed6454125b81",
      "be8024b66a04457aaf052ce6073aedd6",
      "ba6ec6994cba49ce98a5f0905627c7fa",
      "4596d4b8f6c8499485de918f385cae78",
      "45d05c31aa9b45fe99ecd39869be0ab3"
     ]
    },
    "id": "4uSiYdu--V5G",
    "outputId": "41769b08-cf9b-4248-a3d4-093b72b41d8a"
   },
   "execution_count": 11,
   "outputs": [
    {
     "output_type": "display_data",
     "data": {
      "application/vnd.jupyter.widget-view+json": {
       "model_id": "d3c1b808b2b0412bb6c637ed56214060",
       "version_minor": 0,
       "version_major": 2
      },
      "text/plain": [
       "  0%|          | 0/100 [00:00<?, ?it/s]"
      ]
     },
     "metadata": {}
    },
    {
     "output_type": "display_data",
     "data": {
      "text/plain": [
       "<Figure size 576x432 with 0 Axes>"
      ]
     },
     "metadata": {}
    },
    {
     "output_type": "display_data",
     "data": {
      "image/png": "[encoded data removed]",
      "text/plain": [
       "<Figure size 576x432 with 1 Axes>"
      ]
     },
     "metadata": {
      "needs_background": "light"
     }
    }
   ]
  },
  {
   "cell_type": "markdown",
   "source": [
    "# Question 2. AVB"
   ],
   "metadata": {
    "id": "uBag5rcAckn8"
   }
  },
  {
   "cell_type": "markdown",
   "source": [
    "Here we will implement [Adversairal Variational Bayes](https://dl.acm.org/doi/pdf/10.5555/3305890.3305928).\n",
    "\n",
    "You may experiment with different hyperparameters and architecture designs, but the following designs for the AVB architecture may be useful.\n",
    "\n",
    "```\n",
    "Classifier (T)\n",
    "    Conv2d(1, 32, 3, 1, 1), \n",
    "    ReLU(),\n",
    "    Conv2d(32, 64, 3, 2, 1),\n",
    "    ReLU(), \n",
    "    Conv2d(64, 128, 3, 2, 1), \n",
    "    ReLU(), \n",
    "    Conv2d(128, 128, 3, 2, 1), \n",
    "    ReLU(),\n",
    "    # reshape + add latent\n",
    "    Linear(4 * 4 * 128 + ld, hd), \n",
    "    ReLU(),\n",
    "    Linear(hd, hd), \n",
    "    ReLU(),\n",
    "    Linear(hd, 1)\n",
    "\n",
    "\n",
    "Encoder (E)\n",
    "\n",
    "    Conv2d(1, 32, 3, 1, 1), \n",
    "    ReLU(),\n",
    "    Conv2d(32, 64, 3, 2, 1),\n",
    "    ReLU(), \n",
    "    Conv2d(64, 128, 3, 2, 1), \n",
    "    ReLU(), \n",
    "    Conv2d(128, 128, 3, 2, 1), \n",
    "    ReLU(), \n",
    "    # add noise + reshape\n",
    "    Linear(4 * 4 * 128 + nd, ld)\n",
    "\n",
    "Decoder (D)\n",
    "    ConvTranspose2d(128, 128, 3, 2, 1), \n",
    "    ReLU(), \n",
    "    ConvTranspose2d(128, 64, 4, 2, 1), \n",
    "    ReLU(), \n",
    "    ConvTranspose2d(64, 32, 4, 2, 1), \n",
    "    ReLU(), \n",
    "    Conv2d(32, 1, 3, 1, 1)\n",
    "    # reshape\n",
    "    Linear(ld, 4 * 4 * 128), \n",
    "    ReLU()\n",
    "```\n",
    "\n",
    "**Reminder.** Objective for AVB\n",
    "\n",
    "$$max_{\\theta, \\phi} E \\log p_\\theta(x|z_\\phi(x)) - T(x, z_\\phi(x))$$\n",
    "$$max_{T} E_x \\bigg(E_{q_\\phi(z|x)} \\log\\big(\\sigma (T(x, z))\\big) + E_{p(z)} \\log\\big(1 - \\sigma (T(x, z))\\big)\\bigg) $$\n",
    "\n",
    "$\\phi$ - parameters of encoder, $\\theta$ - parameters of decoder\n",
    "\n",
    "\n",
    "**You will provide the following deliverables**\n",
    "\n",
    "\n",
    "1.   Over the course of training, record the elbo and loss of the classifier T ber batch.\n",
    "2. Report the final test set performances of your final models\n",
    "3. 100 samples from your trained AVB"
   ],
   "metadata": {
    "id": "-V1V1syvbINX"
   }
  },
  {
   "cell_type": "code",
   "source": [
    "class Dataset(Dataset):\n",
    "    def __init__(self, data):\n",
    "        self.data = torch.tensor(data.transpose(0, 3, 1, 2), dtype=torch.float32)\n",
    "    def __len__(self):\n",
    "        return self.data.shape[0]\n",
    "    def __getitem__(self, index):\n",
    "        return self.data[index]\n",
    "\n",
    "def q2(train_data, test_data):\n",
    "    \"\"\"\n",
    "    train_data - A (n_train, 28, 28, 1) uint8 numpy array of binary images with values in {0, 1}\n",
    "     Returns\n",
    "    - a (# of training iterations,) numpy array of elbo_losses evaluated every minibatch\n",
    "    - a (# of training iterations,) numpy array of classifier_losses evaluated every minibatch\n",
    "    - a torch tensor of size (100, 1, 28, 28) of samples with values in {0, 1}\n",
    "    \"\"\"\n",
    "    train_loader = DataLoader(Dataset(train_data), batch_size=256, shuffle=True)\n",
    "    test_loader = DataLoader(Dataset(test_data), batch_size=256)\n",
    "\n",
    "    model = AVB(latent_dim=64, device=device, noise_dim=4)\n",
    "    train_losses, test_losses = model.fit(train_loader, test_loader, n_epochs=1, lr=1e-3)\n",
    "\n",
    "    samples = model.sample(100)\n",
    "\n",
    "    return train_losses[:, 0], train_losses[:, 1], test_losses[:, 0], test_losses[:, 1], samples"
   ],
   "metadata": {
    "id": "IFeqntQsUkYG"
   },
   "execution_count": 6,
   "outputs": []
  },
  {
   "cell_type": "code",
   "source": [
    "q2_results(q2)"
   ],
   "metadata": {
    "id": "_Kvk3MMY8lH_",
    "colab": {
     "base_uri": "https://localhost:8080/",
     "height": 1000
    },
    "outputId": "b97407a1-daa1-4e62-c2a7-9516e4025fd7",
    "pycharm": {
     "name": "#%%\n"
    }
   },
   "execution_count": 7,
   "outputs": [
    {
     "data": {
      "text/plain": "Testing:   0%|          | 0/40 [00:00<?, ?it/s]",
      "application/vnd.jupyter.widget-view+json": {
       "version_major": 2,
       "version_minor": 0,
       "model_id": "3741842e093d46e1b3c20721405f8b0d"
      }
     },
     "metadata": {},
     "output_type": "display_data"
    },
    {
     "data": {
      "text/plain": "Epochs:   0%|          | 0/1 [00:00<?, ?it/s]",
      "application/vnd.jupyter.widget-view+json": {
       "version_major": 2,
       "version_minor": 0,
       "model_id": "a5e2fb778388448da4e3213dc01aadae"
      }
     },
     "metadata": {},
     "output_type": "display_data"
    },
    {
     "data": {
      "text/plain": "Training:   0%|          | 0/235 [00:00<?, ?it/s]",
      "application/vnd.jupyter.widget-view+json": {
       "version_major": 2,
       "version_minor": 0,
       "model_id": "c106993bf91543d9931ee1c51a3a8efb"
      }
     },
     "metadata": {},
     "output_type": "display_data"
    },
    {
     "ename": "KeyboardInterrupt",
     "evalue": "",
     "output_type": "error",
     "traceback": [
      "\u001B[0;31m---------------------------------------------------------------------------\u001B[0m",
      "\u001B[0;31mKeyboardInterrupt\u001B[0m                         Traceback (most recent call last)",
      "\u001B[0;32m/var/folders/vw/cn7lrm9j7bvd1rdyfymttkrh0000kt/T/ipykernel_12437/3552280741.py\u001B[0m in \u001B[0;36m<module>\u001B[0;34m\u001B[0m\n\u001B[0;32m----> 1\u001B[0;31m \u001B[0mq2_results\u001B[0m\u001B[0;34m(\u001B[0m\u001B[0mq2\u001B[0m\u001B[0;34m)\u001B[0m\u001B[0;34m\u001B[0m\u001B[0;34m\u001B[0m\u001B[0m\n\u001B[0m",
      "\u001B[0;32m~/HSE/HSE.Deep_Unsupervised_Learning/utils/hw8_utils.py\u001B[0m in \u001B[0;36mq2_results\u001B[0;34m(q)\u001B[0m\n\u001B[1;32m     87\u001B[0m     \u001B[0mtrain_data\u001B[0m\u001B[0;34m,\u001B[0m \u001B[0mtest_data\u001B[0m \u001B[0;34m=\u001B[0m \u001B[0mload_pickled_data\u001B[0m\u001B[0;34m(\u001B[0m\u001B[0mjoin\u001B[0m\u001B[0;34m(\u001B[0m\u001B[0mdata_dir\u001B[0m\u001B[0;34m,\u001B[0m \u001B[0;34m\"mnist.pkl\"\u001B[0m\u001B[0;34m)\u001B[0m\u001B[0;34m)\u001B[0m\u001B[0;34m\u001B[0m\u001B[0;34m\u001B[0m\u001B[0m\n\u001B[1;32m     88\u001B[0m \u001B[0;34m\u001B[0m\u001B[0m\n\u001B[0;32m---> 89\u001B[0;31m     \u001B[0mtrain_elbo\u001B[0m\u001B[0;34m,\u001B[0m \u001B[0mtrain_clf\u001B[0m\u001B[0;34m,\u001B[0m \u001B[0mtest_elbo\u001B[0m\u001B[0;34m,\u001B[0m \u001B[0mtest_clf\u001B[0m\u001B[0;34m,\u001B[0m \u001B[0msamples\u001B[0m \u001B[0;34m=\u001B[0m \u001B[0mq\u001B[0m\u001B[0;34m(\u001B[0m\u001B[0mtrain_data\u001B[0m\u001B[0;34m,\u001B[0m \u001B[0mtest_data\u001B[0m\u001B[0;34m)\u001B[0m\u001B[0;34m\u001B[0m\u001B[0;34m\u001B[0m\u001B[0m\n\u001B[0m\u001B[1;32m     90\u001B[0m \u001B[0;34m\u001B[0m\u001B[0m\n\u001B[1;32m     91\u001B[0m     \u001B[0mplot_avb_training_plot\u001B[0m\u001B[0;34m(\u001B[0m\u001B[0mtrain_elbo\u001B[0m\u001B[0;34m,\u001B[0m \u001B[0mtrain_clf\u001B[0m\u001B[0;34m,\u001B[0m \u001B[0mtest_elbo\u001B[0m\u001B[0;34m,\u001B[0m \u001B[0mtest_clf\u001B[0m\u001B[0;34m,\u001B[0m \u001B[0;34m\"Training Loss\"\u001B[0m\u001B[0;34m)\u001B[0m\u001B[0;34m\u001B[0m\u001B[0;34m\u001B[0m\u001B[0m\n",
      "\u001B[0;32m/var/folders/vw/cn7lrm9j7bvd1rdyfymttkrh0000kt/T/ipykernel_12437/319866954.py\u001B[0m in \u001B[0;36mq2\u001B[0;34m(train_data, test_data)\u001B[0m\n\u001B[1;32m     19\u001B[0m \u001B[0;34m\u001B[0m\u001B[0m\n\u001B[1;32m     20\u001B[0m     \u001B[0mmodel\u001B[0m \u001B[0;34m=\u001B[0m \u001B[0mAVB\u001B[0m\u001B[0;34m(\u001B[0m\u001B[0mlatent_dim\u001B[0m\u001B[0;34m=\u001B[0m\u001B[0;36m64\u001B[0m\u001B[0;34m,\u001B[0m \u001B[0mdevice\u001B[0m\u001B[0;34m=\u001B[0m\u001B[0mdevice\u001B[0m\u001B[0;34m,\u001B[0m \u001B[0mnoise_dim\u001B[0m\u001B[0;34m=\u001B[0m\u001B[0;36m4\u001B[0m\u001B[0;34m)\u001B[0m\u001B[0;34m\u001B[0m\u001B[0;34m\u001B[0m\u001B[0m\n\u001B[0;32m---> 21\u001B[0;31m     \u001B[0mtrain_losses\u001B[0m\u001B[0;34m,\u001B[0m \u001B[0mtest_losses\u001B[0m \u001B[0;34m=\u001B[0m \u001B[0mmodel\u001B[0m\u001B[0;34m.\u001B[0m\u001B[0mfit\u001B[0m\u001B[0;34m(\u001B[0m\u001B[0mtrain_loader\u001B[0m\u001B[0;34m,\u001B[0m \u001B[0mtest_loader\u001B[0m\u001B[0;34m,\u001B[0m \u001B[0mn_epochs\u001B[0m\u001B[0;34m=\u001B[0m\u001B[0;36m1\u001B[0m\u001B[0;34m,\u001B[0m \u001B[0mlr\u001B[0m\u001B[0;34m=\u001B[0m\u001B[0;36m1e-3\u001B[0m\u001B[0;34m)\u001B[0m\u001B[0;34m\u001B[0m\u001B[0;34m\u001B[0m\u001B[0m\n\u001B[0m\u001B[1;32m     22\u001B[0m \u001B[0;34m\u001B[0m\u001B[0m\n\u001B[1;32m     23\u001B[0m     \u001B[0msamples\u001B[0m \u001B[0;34m=\u001B[0m \u001B[0mmodel\u001B[0m\u001B[0;34m.\u001B[0m\u001B[0msample\u001B[0m\u001B[0;34m(\u001B[0m\u001B[0;36m100\u001B[0m\u001B[0;34m)\u001B[0m\u001B[0;34m\u001B[0m\u001B[0;34m\u001B[0m\u001B[0m\n",
      "\u001B[0;32m~/HSE/HSE.Deep_Unsupervised_Learning/dre/avb.py\u001B[0m in \u001B[0;36mfit\u001B[0;34m(self, train_loader, test_loader, n_epochs, lr)\u001B[0m\n\u001B[1;32m     91\u001B[0m                 \u001B[0mclf_loss\u001B[0m \u001B[0;34m=\u001B[0m \u001B[0mself\u001B[0m\u001B[0;34m.\u001B[0m\u001B[0m_clf_loss\u001B[0m\u001B[0;34m(\u001B[0m\u001B[0mbatch\u001B[0m\u001B[0;34m)\u001B[0m\u001B[0;34m\u001B[0m\u001B[0;34m\u001B[0m\u001B[0m\n\u001B[1;32m     92\u001B[0m                 \u001B[0mclf_optim\u001B[0m\u001B[0;34m.\u001B[0m\u001B[0mzero_grad\u001B[0m\u001B[0;34m(\u001B[0m\u001B[0;34m)\u001B[0m\u001B[0;34m\u001B[0m\u001B[0;34m\u001B[0m\u001B[0m\n\u001B[0;32m---> 93\u001B[0;31m                 \u001B[0mclf_loss\u001B[0m\u001B[0;34m.\u001B[0m\u001B[0mbackward\u001B[0m\u001B[0;34m(\u001B[0m\u001B[0;34m)\u001B[0m\u001B[0;34m\u001B[0m\u001B[0;34m\u001B[0m\u001B[0m\n\u001B[0m\u001B[1;32m     94\u001B[0m                 \u001B[0mclf_optim\u001B[0m\u001B[0;34m.\u001B[0m\u001B[0mstep\u001B[0m\u001B[0;34m(\u001B[0m\u001B[0;34m)\u001B[0m\u001B[0;34m\u001B[0m\u001B[0;34m\u001B[0m\u001B[0m\n\u001B[1;32m     95\u001B[0m \u001B[0;34m\u001B[0m\u001B[0m\n",
      "\u001B[0;32m~/miniconda3/envs/py39/lib/python3.9/site-packages/torch/_tensor.py\u001B[0m in \u001B[0;36mbackward\u001B[0;34m(self, gradient, retain_graph, create_graph, inputs)\u001B[0m\n\u001B[1;32m    305\u001B[0m                 \u001B[0mcreate_graph\u001B[0m\u001B[0;34m=\u001B[0m\u001B[0mcreate_graph\u001B[0m\u001B[0;34m,\u001B[0m\u001B[0;34m\u001B[0m\u001B[0;34m\u001B[0m\u001B[0m\n\u001B[1;32m    306\u001B[0m                 inputs=inputs)\n\u001B[0;32m--> 307\u001B[0;31m         \u001B[0mtorch\u001B[0m\u001B[0;34m.\u001B[0m\u001B[0mautograd\u001B[0m\u001B[0;34m.\u001B[0m\u001B[0mbackward\u001B[0m\u001B[0;34m(\u001B[0m\u001B[0mself\u001B[0m\u001B[0;34m,\u001B[0m \u001B[0mgradient\u001B[0m\u001B[0;34m,\u001B[0m \u001B[0mretain_graph\u001B[0m\u001B[0;34m,\u001B[0m \u001B[0mcreate_graph\u001B[0m\u001B[0;34m,\u001B[0m \u001B[0minputs\u001B[0m\u001B[0;34m=\u001B[0m\u001B[0minputs\u001B[0m\u001B[0;34m)\u001B[0m\u001B[0;34m\u001B[0m\u001B[0;34m\u001B[0m\u001B[0m\n\u001B[0m\u001B[1;32m    308\u001B[0m \u001B[0;34m\u001B[0m\u001B[0m\n\u001B[1;32m    309\u001B[0m     \u001B[0;32mdef\u001B[0m \u001B[0mregister_hook\u001B[0m\u001B[0;34m(\u001B[0m\u001B[0mself\u001B[0m\u001B[0;34m,\u001B[0m \u001B[0mhook\u001B[0m\u001B[0;34m)\u001B[0m\u001B[0;34m:\u001B[0m\u001B[0;34m\u001B[0m\u001B[0;34m\u001B[0m\u001B[0m\n",
      "\u001B[0;32m~/miniconda3/envs/py39/lib/python3.9/site-packages/torch/autograd/__init__.py\u001B[0m in \u001B[0;36mbackward\u001B[0;34m(tensors, grad_tensors, retain_graph, create_graph, grad_variables, inputs)\u001B[0m\n\u001B[1;32m    152\u001B[0m         \u001B[0mretain_graph\u001B[0m \u001B[0;34m=\u001B[0m \u001B[0mcreate_graph\u001B[0m\u001B[0;34m\u001B[0m\u001B[0;34m\u001B[0m\u001B[0m\n\u001B[1;32m    153\u001B[0m \u001B[0;34m\u001B[0m\u001B[0m\n\u001B[0;32m--> 154\u001B[0;31m     Variable._execution_engine.run_backward(\n\u001B[0m\u001B[1;32m    155\u001B[0m         \u001B[0mtensors\u001B[0m\u001B[0;34m,\u001B[0m \u001B[0mgrad_tensors_\u001B[0m\u001B[0;34m,\u001B[0m \u001B[0mretain_graph\u001B[0m\u001B[0;34m,\u001B[0m \u001B[0mcreate_graph\u001B[0m\u001B[0;34m,\u001B[0m \u001B[0minputs\u001B[0m\u001B[0;34m,\u001B[0m\u001B[0;34m\u001B[0m\u001B[0;34m\u001B[0m\u001B[0m\n\u001B[1;32m    156\u001B[0m         allow_unreachable=True, accumulate_grad=True)  # allow_unreachable flag\n",
      "\u001B[0;31mKeyboardInterrupt\u001B[0m: "
     ]
    }
   ]
  }
 ]
}