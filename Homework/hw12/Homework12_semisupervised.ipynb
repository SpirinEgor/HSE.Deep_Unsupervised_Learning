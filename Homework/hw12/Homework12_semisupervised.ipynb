{
 "nbformat": 4,
 "nbformat_minor": 0,
 "metadata": {
  "colab": {
   "name": "Homework12_semisupervised.ipynb",
   "provenance": [],
   "collapsed_sections": [],
   "authorship_tag": "ABX9TyPhf+V6/HY8V6FvfB69An83",
   "include_colab_link": true
  },
  "kernelspec": {
   "name": "python3",
   "display_name": "Python 3"
  },
  "language_info": {
   "name": "python"
  },
  "accelerator": "GPU"
 },
 "cells": [
  {
   "cell_type": "code",
   "execution_count": null,
   "outputs": [],
   "source": [
    "! nvidia-smi"
   ],
   "metadata": {
    "collapsed": false,
    "pycharm": {
     "name": "#%%\n"
    }
   }
  },
  {
   "cell_type": "code",
   "source": [
    "! if [ -d HSE.Deep_Unsupervised_Learning ]; then rm -Rf HSE.Deep_Unsupervised_Learning; fi\n",
    "! git clone https://github.com/SpirinEgor/HSE.Deep_Unsupervised_Learning.git\n",
    "%cd HSE.Deep_Unsupervised_Learning\n",
    "! git checkout hw12"
   ],
   "metadata": {
    "id": "vEPPrGksax7-"
   },
   "execution_count": null,
   "outputs": []
  },
  {
   "cell_type": "code",
   "execution_count": null,
   "outputs": [],
   "source": [
    "! pip install -q -r requirements.txt"
   ],
   "metadata": {
    "collapsed": false,
    "pycharm": {
     "name": "#%%\n"
    }
   }
  },
  {
   "cell_type": "code",
   "execution_count": 1,
   "outputs": [
    {
     "name": "stdout",
     "output_type": "stream",
     "text": [
      "/Users/Egor.Spirin/HSE/HSE.Deep_Unsupervised_Learning\n"
     ]
    }
   ],
   "source": [
    "%cd ../.."
   ],
   "metadata": {
    "collapsed": false,
    "pycharm": {
     "name": "#%%\n"
    }
   }
  },
  {
   "cell_type": "code",
   "source": [
    "import matplotlib.pyplot as plt\n",
    "import torch\n",
    "from torch.utils.data import DataLoader\n",
    "\n",
    "from utils.hw12_utils import q12_results\n",
    "from semisupervised.vat import VAT\n",
    "\n",
    "%matplotlib inline\n",
    "%load_ext autoreload\n",
    "%autoreload 2"
   ],
   "metadata": {
    "id": "VUu3B_L7azpr"
   },
   "execution_count": 5,
   "outputs": [
    {
     "name": "stdout",
     "output_type": "stream",
     "text": [
      "The autoreload extension is already loaded. To reload it, use:\n",
      "  %reload_ext autoreload\n"
     ]
    }
   ]
  },
  {
   "cell_type": "code",
   "execution_count": 3,
   "outputs": [],
   "source": [
    "plt.rcParams[\"axes.labelsize\"] = 25.0\n",
    "plt.rcParams[\"xtick.labelsize\"] = 20.0\n",
    "plt.rcParams[\"ytick.labelsize\"] = 20.0\n",
    "plt.rcParams[\"legend.fontsize\"] = 18.0\n",
    "\n",
    "plt.rcParams[\"figure.figsize\"] = [8.0, 6.0]"
   ],
   "metadata": {
    "collapsed": false,
    "pycharm": {
     "name": "#%%\n"
    }
   }
  },
  {
   "cell_type": "code",
   "execution_count": 4,
   "outputs": [
    {
     "data": {
      "text/plain": "device(type='cpu')"
     },
     "execution_count": 4,
     "metadata": {},
     "output_type": "execute_result"
    }
   ],
   "source": [
    "device = torch.device(\"cuda\" if torch.cuda.is_available() else \"cpu\")\n",
    "device"
   ],
   "metadata": {
    "collapsed": false,
    "pycharm": {
     "name": "#%%\n"
    }
   }
  },
  {
   "cell_type": "markdown",
   "source": [
    "# Question 1. VAT\n",
    "\n",
    "Here we will implement [VAT](https://arxiv.org/pdf/1704.03976.pdf).\n",
    "\n",
    "* Train labeled data with standatd cross-entropy loss\n",
    "\n",
    "* Use vat regularization for both unlabeled and labeled data\n",
    "\n",
    "* You can use architecture from practice\n",
    "\n",
    "* Dataset comes as pairs `x, y`. `x` is an image from CIFAR10. `y` is a label from `[0, 10]` if datapoint is labeled and `-1` otherwise.\n",
    "\n",
    "**Hyperparameters**\n",
    "\n",
    "* ξ= 10 \n",
    "* lr = 5e-4\n",
    "* num_epochs = 15\n",
    "\n",
    "\n",
    "\n",
    "**You will provide the following deliverables**\n",
    "\n",
    "\n",
    "1. Over the course of training, record loss ber batch.\n",
    "2. After each epoch calculate accuracy on test data."
   ],
   "metadata": {
    "id": "qo4zHxLOv5rX"
   }
  },
  {
   "cell_type": "code",
   "source": [
    "def q1(train_data, test_data):\n",
    "    \"\"\"\n",
    "    train_data: An (n_train, 3, 32, 32) torchvision dataset of CIFAR10 images with values from -1 to 1\n",
    "\n",
    "    Returns\n",
    "    - a (# of training iterations, ) numpy array  losses on each iteration\n",
    "    - a (# of training epochs, ) numpy array accuracies on each epoch\n",
    "    \"\"\"\n",
    "    train_dataloader = DataLoader(train_data, batch_size=128, shuffle=True)\n",
    "    test_dataloader = DataLoader(test_data, batch_size=128)\n",
    "\n",
    "    vat = VAT(10, device, latent_dim=12)\n",
    "    return vat.fit(train_dataloader, test_dataloader, n_epochs=1)"
   ],
   "metadata": {
    "id": "v3neKPxpZImJ"
   },
   "execution_count": 10,
   "outputs": []
  },
  {
   "cell_type": "code",
   "source": [
    "q12_results(q1)"
   ],
   "metadata": {
    "colab": {
     "base_uri": "https://localhost:8080/",
     "height": 573
    },
    "id": "saxnnzOCzkMx",
    "outputId": "fa10bdc2-e321-4f61-b075-fb4f92ee8f2b"
   },
   "execution_count": 11,
   "outputs": [
    {
     "name": "stdout",
     "output_type": "stream",
     "text": [
      "Files already downloaded and verified\n",
      "Files already downloaded and verified\n",
      "Start test score: 12.658227848101266\n"
     ]
    },
    {
     "data": {
      "text/plain": "Epochs:   0%|          | 0/1 [00:00<?, ?it/s]",
      "application/vnd.jupyter.widget-view+json": {
       "version_major": 2,
       "version_minor": 0,
       "model_id": "ea8fc23693cc41b788fdb54b5c941296"
      }
     },
     "metadata": {},
     "output_type": "display_data"
    },
    {
     "data": {
      "text/plain": "Training:   0%|          | 0/391 [00:00<?, ?it/s]",
      "application/vnd.jupyter.widget-view+json": {
       "version_major": 2,
       "version_minor": 0,
       "model_id": "1451df66c3674e12bbdef992d95a6fe6"
      }
     },
     "metadata": {},
     "output_type": "display_data"
    },
    {
     "name": "stdout",
     "output_type": "stream",
     "text": [
      "Test score after epoch 1: 24.126582278481013\n"
     ]
    },
    {
     "data": {
      "text/plain": "<Figure size 432x288 with 1 Axes>",
      "image/png": "[encoded data removed]"
     },
     "metadata": {
      "needs_background": "light"
     },
     "output_type": "display_data"
    },
    {
     "data": {
      "text/plain": "<Figure size 432x288 with 1 Axes>",
      "image/png": "[encoded data removed]"
     },
     "metadata": {
      "needs_background": "light"
     },
     "output_type": "display_data"
    }
   ]
  },
  {
   "cell_type": "markdown",
   "source": [
    "# Question 2. FixMatch\n",
    "\n",
    "Here we will implement [FixMatch](https://arxiv.org/abs/2001.07685).\n",
    "\n",
    "* Calculate loss on weakly augmented labeled data with standatd cross-entropy loss\n",
    "\n",
    "* Calculate loss on strongly augmented unlabeled data with standatd cross-entropy loss with pseudo-lables\n",
    "\n",
    "* Use SimCLR transformations as strong and RandomHorizontalFlip as weak\n",
    "\n",
    "* You can use architecture from practice\n",
    "\n",
    "* Dataset comes as pairs `x, y`. `x` is an image from CIFAR10. `y` is a label from `[0, 10]` if datapoint is labeled and `-1` otherwise.\n",
    "\n",
    "**Hyperparameters**\n",
    "\n",
    "* τ = 0.7 \n",
    "* λ_u = 10 (weight of unlabeled loss)\n",
    "* lr = 5e-4\n",
    "* num_epochs ~ 20 or more\n",
    "\n",
    "\n",
    "\n",
    "**You will provide the following deliverables**\n",
    "\n",
    "\n",
    "1. Over the course of training, record loss ber batch.\n",
    "2. After each epoch calculate accuracy on test data."
   ],
   "metadata": {
    "id": "zxgc1UFd_cpi"
   }
  },
  {
   "cell_type": "code",
   "source": [
    "def q2(train_data, test_data):\n",
    "    \"\"\"\n",
    "    train_data: An (n_train, 3, 32, 32) torchvision dataset of CIFAR10 images with values from -1 to 1\n",
    "\n",
    "    Returns\n",
    "    - a (# of training iterations, ) numpy array  losses on each iteration\n",
    "    - a (# of training epochs, ) numpy array accuracies on each epoch\n",
    "    \"\"\"\n",
    "    pass"
   ],
   "metadata": {
    "id": "UZGq-KG9abw3"
   },
   "execution_count": null,
   "outputs": []
  },
  {
   "cell_type": "code",
   "source": [
    "q12_results(q2)"
   ],
   "metadata": {
    "id": "ePG4-hS0abw_"
   },
   "execution_count": null,
   "outputs": []
  },
  {
   "cell_type": "markdown",
   "source": [
    "# Bonus\n",
    "\n",
    "## The probabilistic model\n",
    "\n",
    "*(this is a short summary of the model presented in [\"Semi-supervised Learning with\n",
    "Deep Generative Models\"](https://arxiv.org/pdf/1406.5298.pdf))*\n",
    "\n",
    "In the semi-supervised setting, the generative model is a little more complicated than vanilla VAE. In particular, it incorporates a new variable $y$ that represents the class of a digit $x$.\n",
    "\n",
    "\\begin{align*}\n",
    "& p(x, y, z) = p(x \\mid y, z) p(z) p(y) \\\\\n",
    "& p(y) = Cat(y \\mid \\pi_0), \\pi_0 = (1/10, \\dots, 1/10) \\\\\n",
    "& p(z) = \\mathcal N(z \\mid 0, I) \\\\\n",
    "& p(x \\mid y, z) = \\prod_{i=1}^D p_i(y, z)^{x_i} (1 - p_i(y, z))^{1 - x_i}\n",
    "\\end{align*}\n",
    "\n",
    "## The first part of the objective\n",
    "\n",
    "Whenever we train a probabilistic model with partial observations, we interpret the unobserved variables as latent variables. Then we marginalize them. In this case, the loss function splits into two terms: one for observed variables (we denote the set of indices of observed labels $P$), another for unobserved.\n",
    "\n",
    "\\begin{equation}\n",
    "L(X, y) = \\sum_{i \\notin P} \\log p(x_i) + \\sum_{i \\in P} \\log p(x_i, y_i)\n",
    "\\end{equation}\n",
    "\n",
    "Again, we can't compute the exact values of marginal likelihoods and resort to variational lower bound on likelihood. To compute lower bounds, we define the following variational approximation:\n",
    "\n",
    "\\begin{align*}\n",
    "& q(y, z \\mid x) = q(y \\mid x) q(z \\mid y, x)\\\\\n",
    "& \\\\\n",
    "& q(y \\mid x) = Cat(y \\mid \\pi(x))\\\\\n",
    "& q(z \\mid y, x) = \\mathcal N(z \\mid \\mu_\\phi(x, y), \\operatorname{diag}\\sigma^2_\\phi(y, x))\n",
    "\\end{align*}\n",
    "\n",
    "Using the variational approximation, we will obtain two lower bounds.\n",
    "\n",
    "First, the ELBO for $\\log p(x_i, y_i)$ for the observed variables (this one is similar to ELBO of VAE).\n",
    "\n",
    "\\begin{equation}\n",
    "\\log p(x, y) = \\log \\mathbb E_{p(z)} p(x, y \\mid z) \\geq \\mathbb E_{q(z \\mid y, x)} \\log \\frac{p(x, y \\mid z) p(z)}{q(z \\mid y, x)}\n",
    "\\end{equation}\n",
    "\n",
    "Second, the ELBO for $\\log p(x_i)$ for the unobserved variables.\n",
    "\n",
    "\\begin{equation}\n",
    "\\log p(x) = \\log \\mathbb E_{p(y)} \\mathbb E_{p(z \\mid y)} \\log p(x\\mid z, y)\\geq \\mathbb E_{q(y \\mid x)} \\mathbb E_{q(z \\mid y, x)} \\log \\frac{p(x, y \\mid z) p(z)}{q(z \\mid y, x) q(y \\mid x)}\n",
    "\\end{equation}\n",
    "\n",
    "Finally, the joint lower bound will be\n",
    "\n",
    "\\begin{equation}\n",
    "\\mathcal L(X, y) = \\sum_{i \\in P} \\mathbb E_{q(z_i \\mid y_i, x_i)} \\log \\frac{p(x_i, y_i \\mid z_i) p(z_i)}{q(z_i \\mid y_i, x_i)} + \\sum_{i \\notin P} \\mathbb E_{q(y_i \\mid x_i)} \\mathbb E_{q(z_i \\mid y_i, x_i)} \\log \\frac{p(x_i, y_i \\mid z_i) p(z_i)}{q(z_i \\mid y_i, x_i) q(y_i \\mid x_i)}\n",
    "\\end{equation}\n",
    "\n",
    "We will use reparametrized Monte-Carlo estimates to approximate expectation w.r.t. $z$. To approximate expectaion w.r.t. the discrete variable $y$ we will try three different options."
   ],
   "metadata": {
    "id": "70Ckao5QSblC"
   }
  },
  {
   "cell_type": "code",
   "source": [
    "def b(train_data, test_data):\n",
    "    \"\"\"\n",
    "    train_data: An (n_train, 1, 28, 28) torchvision dataset of binary MNIST images\n",
    "    Returns\n",
    "    - a (# of training iterations, ) numpy array  losses on each iteration\n",
    "    - a (# of training epochs, ) numpy array accuracies on each epoch\n",
    "    \"\"\"\n",
    "    pass"
   ],
   "metadata": {
    "id": "opRfI5beScTp"
   },
   "execution_count": null,
   "outputs": []
  }
 ]
}